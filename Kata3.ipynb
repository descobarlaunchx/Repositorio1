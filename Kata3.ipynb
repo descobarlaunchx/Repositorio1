{
 "cells": [
  {
   "cell_type": "markdown",
   "metadata": {},
   "source": [
    "# Ejercicio 1 - Kata 3\n",
    "Para este ejercicio, escribirás una lógica condicional que imprima una advertencia si un asteroide se acerca a la Tierra demasiado rápido. La velocidad del asteroide varía dependiendo de lo cerca que esté del sol, y cualquier velocidad superior a 25 kilómetros por segundo (km/s) merece una advertencia.\n",
    "\n",
    "Un asteroide se acerca, y viaja a una velocidad de 49 km/s.\n",
    "\n",
    "# Ejercicio 2 - kata 3\n",
    "Si un asteroide entra en la atmósfera de la Tierra a una velocidad mayor o igual a 20 km/s, a veces produce un rayo de luz que se puede ver desde la Tierra. Escribe la lógica condicional que usa declaraciones if, else, y elif para alertar a las personas de todo el mundo que deben buscar un asteroide en el cielo. ¡Hay uno que se dirige a la tierra ahora a una velocidad de 19 km/s!\n",
    "\n",
    "PLUS: INPUT"
   ]
  },
  {
   "cell_type": "code",
   "execution_count": 6,
   "metadata": {},
   "outputs": [
    {
     "name": "stdout",
     "output_type": "stream",
     "text": [
      "Revisar rayo de luz de un astereoide!\n"
     ]
    }
   ],
   "source": [
    "VelAsteroide = input (\"velocidad del asteroide\")\n",
    "if (int(VelAsteroide) >= 20 and int(VelAsteroide) <= 25):\n",
    "    print(\"Revisar rayo de luz de un astereoide!\")\n",
    "elif (int(VelAsteroide) > 25):\n",
    "    print(\"Alerta de Asteroide a mas de 25 km/s!\")\n",
    "else:  print(\"la velocidad del asteroide es menor :) a 25 km/s\")"
   ]
  },
  {
   "cell_type": "markdown",
   "metadata": {},
   "source": [
    "# Ejercicio 3 -  Kata 3\n",
    "\n",
    "*Los asteroides de menos de 25 metros en su dimensión más grande probablemente se quemarán a medida que entren en la atmósfera de la Tierra.\n",
    "\n",
    "Si una pieza de un asteroide que es más grande que 25 metros pero más pequeña que 1000 metros golpeara la Tierra, causaría mucho daño.\n",
    "También discutimos en el ejercicio anterior que:\n",
    "\n",
    "La velocidad del asteroide varía en función de lo cerca que esté del sol, y cualquier velocidad superior a 25 kilómetros por segundo (km/s) merece una advertencia.\n",
    "Si un asteroide entra en la atmósfera de la Tierra a una velocidad mayor o igual a 20 km/s, a veces produce un rayo de luz que se puede ver desde la Tierra.\n",
    "Usando toda esta información, escribe un programa que emita la advertencia o información correcta a la gente de la Tierra, según la velocidad y el tamaño de un asteroide. Utiliza instrucciones if, else, y elif, así como los operadores and y or."
   ]
  },
  {
   "cell_type": "code",
   "execution_count": 27,
   "metadata": {},
   "outputs": [
    {
     "name": "stdout",
     "output_type": "stream",
     "text": [
      "Alerta de Asteroide a mas de 25km/s !\n",
      "El tamaño del asteroide es de 26 metros\n",
      "Se estrellara contra la tierra!\n"
     ]
    }
   ],
   "source": [
    "VelAsteroide = input (\"Velocidad del Asteroide (Kms/S\")\n",
    "TamañoAsteroide = input (\"Tamaño del Asteroide (Metros)\")\n",
    "if (int(TamañoAsteroide) > 25 and int(TamañoAsteroide) < 1000 ):\n",
    "    if (int(VelAsteroide) >= 20 and int(VelAsteroide) <= 25):\n",
    "          print(\"Revisar Rayo de Luz de Asteroide\\n¡Tamaño de Asteroide: \"+TamañoAsteroide+\" Se impactara contra la tierra! D:\")\n",
    "    else:\n",
    "          if (int(VelAsteroide) > 25): \n",
    "               print(\"Alerta de Asteroide a mas de 25km/s !\\nEl tamaño del asteroide es de \" + TamañoAsteroide + \" metros\\nSe estrellara contra la tierra!\")\n",
    "          else: \n",
    "               print(\"La velocidad del asteroide es menor a 25.\\nEl tamaño del asteroide es de \" + TamañoAsteroide + \" metros\\nSe estrellara contra la tierra!\")\n",
    "else:\n",
    "     if (int(VelAsteroide) >= 20 and int(VelAsteroide) <= 25):\n",
    "          print(\"Revisar Rayo de Luz de Asteroide\\n¡Tamaño de Asteroide: \"+TamañoAsteroide+\" No hay impacto sobre la tierra ...\")\n",
    "     else:\n",
    "          if (int(VelAsteroide) > 25):\n",
    "               print(\"Alerta de Asteroide a mas de 25km/s !\\nEl tamaño del asteroide es de \" + TamañoAsteroide + \" metros\\nNo hay impacto a la tierra ...\")\n",
    "          else: \n",
    "               print(\"La velocidad del asteroide es menor a 25.\\nEl tamaño del asteroide es de \" + TamañoAsteroide + \" metros\\nNo hay impacto a la tierra ...\")"
   ]
  }
 ],
 "metadata": {
  "interpreter": {
   "hash": "c47c1d73aa118e0d9ac27cd0a26b1e6bc706bc549e4277bc280d8f94013a8662"
  },
  "kernelspec": {
   "display_name": "Python 3.10.2 64-bit",
   "language": "python",
   "name": "python3"
  },
  "language_info": {
   "codemirror_mode": {
    "name": "ipython",
    "version": 3
   },
   "file_extension": ".py",
   "mimetype": "text/x-python",
   "name": "python",
   "nbconvert_exporter": "python",
   "pygments_lexer": "ipython3",
   "version": "3.10.2"
  },
  "orig_nbformat": 4
 },
 "nbformat": 4,
 "nbformat_minor": 2
}
